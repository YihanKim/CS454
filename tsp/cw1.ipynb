{
 "cells": [
  {
   "cell_type": "code",
   "execution_count": 17,
   "metadata": {
    "collapsed": true
   },
   "outputs": [],
   "source": [
    "#! /usr/bin/env python3\n",
    "# 20130143 Yihan Kim\n",
    "\n",
    "# 1. 모듈 불러오기\n",
    "\n",
    "# 파이썬 라이브러리\n",
    "import os\n",
    "import math\n",
    "import string\n",
    "import random\n",
    "import time\n",
    "import datetime\n",
    "import multiprocessing.process\n",
    "\n",
    "# 외부 라이브러리\n",
    "import numpy as np"
   ]
  },
  {
   "cell_type": "code",
   "execution_count": 18,
   "metadata": {
    "collapsed": true
   },
   "outputs": [],
   "source": [
    "# 2. 파일 입출력\n",
    "\n",
    "# ./data 폴더의 tsp 파일을 파싱\n",
    "# data 폴더 중에서 tsp 확장자가 아닌 파일은 에러 처리\n",
    "def get_filedirs():\n",
    "    path = os.path.join(os.getcwd(), \"data\")\n",
    "    if os.path.isdir(path):\n",
    "        return list(map(lambda fname: os.path.join(path, fname), os.listdir(\"data\")))\n",
    "    return list()\n",
    "\n",
    "# N * 2 Array로 읽어들이는 과정 - 11849에서 0.05초 가량 소요\n",
    "def get_contents(fpath):\n",
    "    extension = fpath.split(\".\")[-1]\n",
    "    assert extension in [\"tsp\", \"TSP\"], \"Unable to read : file extension %s is not supported\" % extension\n",
    "    with open(fpath) as f:\n",
    "        return [[int(x[0]), np.array([float(x[1]), float(x[2])])] for x in [l.split() for l in f if l[0] in string.digits]]\n"
   ]
  },
  {
   "cell_type": "code",
   "execution_count": 19,
   "metadata": {
    "collapsed": true
   },
   "outputs": [],
   "source": [
    "# 3. 기본 함수들\n",
    "# 두 개의 점을 입력받아 두 점 사이의 거리를 리턴\n",
    "def get_distance(i, j):\n",
    "    return np.linalg.norm(i[1] - j[1])\n",
    "\n",
    "# 0부터 n-1까지를 포함한 arrangement 리턴\n",
    "def gen_random(n):\n",
    "    return np.random.permutation(range(n))\n",
    "\n",
    "# permutation과 tsp data를 바탕으로 총 길이를 evaluate\n",
    "def get_total_length(tsp_data, permutation):\n",
    "    length = len(tsp_data)\n",
    "    distance = 0;\n",
    "    for i in range(length):\n",
    "        distance += get_distance(tsp_data[permutation[i - 1]], tsp_data[permutation[i]])\n",
    "    return [distance]"
   ]
  },
  {
   "cell_type": "code",
   "execution_count": 20,
   "metadata": {},
   "outputs": [],
   "source": [
    "# 4. 진화 알고리즘 요소\n",
    "def inverse(l):\n",
    "    # rev_l에 값으로 접근하면 index의 값을 얻을 수 있음\n",
    "    rev_l = [0] + [0 for i in l]\n",
    "    for k, v in enumerate(l):\n",
    "        rev_l[v] = k \n",
    "    return rev_l\n",
    "\n",
    "def swap(l, a, b):\n",
    "    l[a], l[b] = l[b], l[a]\n",
    "\n",
    "# permutation의 PMX 크로스오버 사용\n",
    "def crossover(x, y, cprob):\n",
    "    assert len(x) == len(y)\n",
    "    x = list(x)\n",
    "    y = list(y)\n",
    "    n = len(x)\n",
    "    crosslength = int((1 - cprob) * n)\n",
    "    initialidx = random.randint(0, n - crosslength)\n",
    "    x_, y_ = x[:], y[:]\n",
    "    xinv = inverse(x)\n",
    "    yinv = inverse(y)\n",
    "    z = [-1 for i in range(n)]\n",
    "    w = [-1 for i in range(n)]\n",
    "    interval = sorted([initialidx, crosslength + initialidx])\n",
    "    for i in range(*interval):\n",
    "        value = y[i]\n",
    "        x_idx = xinv[value]\n",
    "        swap(x_, i, x_idx)\n",
    "        value = x[i]\n",
    "        y_idx = yinv[value]\n",
    "        swap(y_, i, y_idx)\n",
    "        \n",
    "    return (x_, y_)\n",
    "\n",
    "\n",
    "# x의 요소들을 mutate_prob의 확률로 변화(swap)시키는 함수\n",
    "def mutate(x, mutate_prob):\n",
    "    for i in range(int(mutate_prob * len(x))):\n",
    "        j = random.randint(0, len(x) - 1)\n",
    "        k = random.randint(0, len(x) - 1)\n",
    "        if j != k:\n",
    "            swap(x, j, k)\n",
    "    return\n",
    "    \n",
    " "
   ]
  },
  {
   "cell_type": "code",
   "execution_count": 21,
   "metadata": {
    "collapsed": true
   },
   "outputs": [],
   "source": [
    "# 5. 결정론적 알고리즘\n",
    "# Optimal solution의 2배까지 나오는 결과물\n",
    "def tsp_nn(tsp_data):\n",
    "    k = random.randint(0, len(tsp_data) - 1)\n",
    "    d = tsp_data[:]\n",
    "    n = [tsp_data[k]]\n",
    "    d.pop(k)\n",
    "    \n",
    "    while len(d) > 0:\n",
    "        min_dist = 1e10\n",
    "        idx = -1\n",
    "        for (i, j) in enumerate(d):\n",
    "            new_dist = get_distance(n[-1], j)\n",
    "            if new_dist < min_dist:\n",
    "                min_dist, idx = new_dist, i\n",
    "        n.append(d[idx])\n",
    "        d.pop(idx)\n",
    "    return n"
   ]
  },
  {
   "cell_type": "code",
   "execution_count": 22,
   "metadata": {
    "collapsed": true,
    "scrolled": false
   },
   "outputs": [],
   "source": [
    "# 6. 상수\n",
    "cprob = 0.95 # crossover probability\n",
    "mprob = 0.02 # mutation probability\n",
    "population = 40 # test case\n",
    "elitism = 3 # number of elements will be preserved\n",
    "maxgen = 10 # number of generations"
   ]
  },
  {
   "cell_type": "code",
   "execution_count": 23,
   "metadata": {},
   "outputs": [],
   "source": [
    "# genetic algorithm\n",
    "\n",
    "def main_ga():\n",
    "    for filedir in get_filedirs():\n",
    "        try:\n",
    "            tsp_data = get_contents(filedir)\n",
    "        except:\n",
    "            continue\n",
    "        \n",
    "        d = {}\n",
    "        def get_length_cache(p):\n",
    "            try:\n",
    "                return d[id(p)]\n",
    "            except KeyError:\n",
    "                d[id(p)] = get_total_length(tsp_data, p)\n",
    "                return d[id(p)]\n",
    "            \n",
    "        tsp_length = len(tsp_data)\n",
    "        instances = []\n",
    "        \n",
    "        for i in range(population):\n",
    "            instances.append(gen_random(tsp_length))\n",
    "            \n",
    "        for gen in range(maxgen):\n",
    "            print(d)\n",
    "            instances.sort(key = lambda p: get_length_cache(p))\n",
    "            instances = instances[:population]\n",
    "            print(\"min distance in gen %s : %s\" % (gen, get_total_length(tsp_data,instances[0])))\n",
    "            nextgen = instances[:elitism]\n",
    "        \n",
    "            for _ in range(tsp_length - elitism):\n",
    "                i = random.randint(0, population - 1)\n",
    "                j = random.randint(0, population - 1)\n",
    "                #print(instances[i])\n",
    "                r = crossover(instances[i], instances[j], cprob)\n",
    "                instances.append(r[0])\n",
    "                instances.append(r[1])\n",
    "\n",
    "            for x in instances:\n",
    "                mutate(x, mprob)\n"
   ]
  },
  {
   "cell_type": "code",
   "execution_count": 24,
   "metadata": {
    "scrolled": false
   },
   "outputs": [],
   "source": [
    "def main_nn():\n",
    "    for filedir in get_filedirs():\n",
    "        try:\n",
    "            tsp_data = get_contents(filedir)\n",
    "        except:\n",
    "            continue\n",
    "        tsp_length = len(tsp_data)\n",
    "        p = gen_random(tsp_length)\n",
    "        dat = tsp_nn(tsp_data)\n",
    "        path = os.path.join(os.getcwd(), \"result/%s_%s.txt\" % (filedir.split(\"/\")[-1], str(datetime.datetime.now())))\n",
    "        print(get_total_length(dat, range(tsp_length)))\n",
    "        with open(path, \"w\") as f:\n",
    "            for i in dat:\n",
    "                f.write(str(i[0]) + \"\\n\")\n"
   ]
  },
  {
   "cell_type": "code",
   "execution_count": null,
   "metadata": {},
   "outputs": [],
   "source": [
    "if __name__ == \"__main__\":\n",
    "    main_nn()"
   ]
  }
 ],
 "metadata": {
  "kernelspec": {
   "display_name": "Python 3",
   "language": "python",
   "name": "python3"
  },
  "language_info": {
   "codemirror_mode": {
    "name": "ipython",
    "version": 3
   },
   "file_extension": ".py",
   "mimetype": "text/x-python",
   "name": "python",
   "nbconvert_exporter": "python",
   "pygments_lexer": "ipython3",
   "version": "3.4.2"
  }
 },
 "nbformat": 4,
 "nbformat_minor": 2
}
